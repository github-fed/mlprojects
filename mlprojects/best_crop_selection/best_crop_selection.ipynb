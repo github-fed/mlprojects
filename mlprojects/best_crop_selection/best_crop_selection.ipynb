{
 "cells": [
  {
   "cell_type": "code",
   "execution_count": 14,
   "metadata": {},
   "outputs": [
    {
     "data": {
      "text/plain": [
       "{'K': 0.26590909090909093}"
      ]
     },
     "execution_count": 14,
     "metadata": {},
     "output_type": "execute_result"
    }
   ],
   "source": [
    "import pandas as pd\n",
    "from sklearn.linear_model import LogisticRegression\n",
    "from sklearn.model_selection import train_test_split, cross_val_score\n",
    "from sklearn.preprocessing import StandardScaler\n",
    "\n",
    "crops = pd.read_csv(\"../../assets/soil_measures.csv\")\n",
    "\n",
    "# Separate features and target variable\n",
    "X = crops.drop(columns=['crop'])\n",
    "y = crops['crop']\n",
    "\n",
    "best_feature = ''\n",
    "best_score = 0\n",
    "scaler = StandardScaler()\n",
    "X_scaled = scaler.fit_transform(X)\n",
    "\n",
    "# Iterate over each feature\n",
    "for feature_idx, feature in enumerate(X.columns):\n",
    "    # Use Logistic Regression model\n",
    "    logreg = LogisticRegression(multi_class=\"multinomial\", max_iter=1000)\n",
    "    \n",
    "    # Perform cross-validation\n",
    "    scores = cross_val_score(logreg, X_scaled[:, feature_idx].reshape(-1, 1), y, cv=5)\n",
    "    \n",
    "    # Calculate mean accuracy across folds\n",
    "    accuracy = scores.mean()\n",
    "    \n",
    "    # Update best feature and score if current feature has higher accuracy\n",
    "    if accuracy > best_score:\n",
    "        best_feature = feature\n",
    "        best_score = accuracy    \n",
    "\n",
    "best_predictive_feature = {best_feature: best_score}\n",
    "best_predictive_feature"
   ]
  }
 ],
 "metadata": {
  "kernelspec": {
   "display_name": "mlprojects-kMA5Jff8-py3.12",
   "language": "python",
   "name": "python3"
  },
  "language_info": {
   "codemirror_mode": {
    "name": "ipython",
    "version": 3
   },
   "file_extension": ".py",
   "mimetype": "text/x-python",
   "name": "python",
   "nbconvert_exporter": "python",
   "pygments_lexer": "ipython3",
   "version": "3.12.1"
  }
 },
 "nbformat": 4,
 "nbformat_minor": 2
}
