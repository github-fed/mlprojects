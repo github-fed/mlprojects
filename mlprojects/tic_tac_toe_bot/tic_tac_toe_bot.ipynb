{
 "cells": [
  {
   "cell_type": "code",
   "execution_count": 9,
   "metadata": {},
   "outputs": [],
   "source": [
    "class GameGrid:\n",
    "    grid: list\n",
    "\n",
    "    def __init__(self):\n",
    "        self.grid = [\n",
    "            ['','',''],\n",
    "            ['','',''],\n",
    "            ['','',''],\n",
    "        ]\n",
    "        self.authorized_moves = [1,2,3,4,5,6,7,8,9]\n",
    "        self.continue_game = True\n",
    "    \n",
    "    def show_grid(self):\n",
    "        for row in self.grid:\n",
    "            print(row)\n",
    "\n",
    "    def play(self, player: str, case: int):\n",
    "        self.check_rules(case)\n",
    "        if case >= 1 and case <=3:\n",
    "            self.grid[0][case-1] = player\n",
    "        elif case >= 4 and case <=6:\n",
    "            self.grid[1][case%3-1] = player\n",
    "        else:\n",
    "            self.grid[2][case%3-1] = player\n",
    "        \n",
    "        self.continue_game = self.check_win(player)\n",
    "        if self.continue_game is False:\n",
    "            self.show_grid()\n",
    "            print(f'Player {player} won!')\n",
    "    \n",
    "    def check_rules(self, case: int):\n",
    "        if case not in self.authorized_moves:\n",
    "            raise SystemError('This case was already played')\n",
    "        else:\n",
    "            self.authorized_moves.remove(case)\n",
    "    \n",
    "    def check_win(self, player: str) -> bool:\n",
    "        # horizontal win\n",
    "        for row in self.grid:\n",
    "            if row.count(player) == 3:\n",
    "                return False\n",
    "        \n",
    "        # vertical win\n",
    "        if self.grid[0][0] == player and self.grid[1][0] == player and self.grid[2][0] == player:\n",
    "            return False\n",
    "        if self.grid[0][1] == player and self.grid[1][1] == player and self.grid[2][1] == player:\n",
    "            return False\n",
    "        if self.grid[0][2] == player and self.grid[1][2] == player and self.grid[2][2] == player:\n",
    "            return False\n",
    "\n",
    "        # diagonal win\n",
    "        if self.grid[0][0] == player and self.grid[1][1] == player and self.grid[2][2] == player:\n",
    "            return False\n",
    "        if self.grid[0][2] == player and self.grid[1][1] == player and self.grid[2][0] == player:\n",
    "            return False\n",
    "\n",
    "        return True"
   ]
  },
  {
   "cell_type": "code",
   "execution_count": 10,
   "metadata": {},
   "outputs": [
    {
     "name": "stdout",
     "output_type": "stream",
     "text": [
      "['', '', '']\n",
      "['', '', '']\n",
      "['', '', '']\n",
      "X 5\n",
      "['', '', '']\n",
      "['', 'X', '']\n",
      "['', '', '']\n",
      "O 6\n",
      "['', '', '']\n",
      "['', 'X', 'O']\n",
      "['', '', '']\n",
      "X 1\n",
      "['X', '', '']\n",
      "['', 'X', 'O']\n",
      "['', '', '']\n",
      "O2 2\n",
      "['X', 'O2', '']\n",
      "['', 'X', 'O']\n",
      "['', '', '']\n",
      "X 9\n",
      "Player X won!\n"
     ]
    }
   ],
   "source": [
    "ttt = GameGrid()\n",
    "\n",
    "while ttt.continue_game:\n",
    "    ttt.show_grid()\n",
    "    player = str(input('Player: '))\n",
    "    case = int(input('Case: '))\n",
    "    ttt.play(player, case)"
   ]
  }
 ],
 "metadata": {
  "kernelspec": {
   "display_name": "mlprojects-CAep5X2q-py3.12",
   "language": "python",
   "name": "python3"
  },
  "language_info": {
   "codemirror_mode": {
    "name": "ipython",
    "version": 3
   },
   "file_extension": ".py",
   "mimetype": "text/x-python",
   "name": "python",
   "nbconvert_exporter": "python",
   "pygments_lexer": "ipython3",
   "version": "3.12.1"
  }
 },
 "nbformat": 4,
 "nbformat_minor": 2
}
