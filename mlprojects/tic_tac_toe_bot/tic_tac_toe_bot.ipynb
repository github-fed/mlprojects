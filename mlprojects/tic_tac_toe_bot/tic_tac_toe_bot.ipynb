{
 "cells": [
  {
   "cell_type": "code",
   "execution_count": null,
   "metadata": {},
   "outputs": [],
   "source": [
    "class GameGrid:\n",
    "    grid: list\n",
    "\n",
    "    def __init__(self):\n",
    "        self.grid = [\n",
    "            ['','',''],\n",
    "            ['','',''],\n",
    "            ['','',''],\n",
    "        ]\n",
    "    \n",
    "    def show_grid(self):\n",
    "        print(self.grid[0])\n",
    "        print(self.grid[1])\n",
    "        print(self.grid[2])\n",
    "\n",
    "    def play(self, player: str, case: int):\n",
    "        if case >= 1 and case <=3:\n",
    "            self.grid[0].pop(case-1)\n",
    "            self.grid[0].insert(case-1, player)\n",
    "        elif case >= 4 and case <=6:\n",
    "            self.grid[1].pop(case%3-1)\n",
    "            self.grid[1].insert(case%3-1, player)\n",
    "        else:\n",
    "            self.grid[0].pop(case%3-1)\n",
    "            self.grid[2].insert(case%3-1, player)\n",
    "    \n",
    "    def check_rules(self):\n",
    "        pass"
   ]
  },
  {
   "cell_type": "code",
   "execution_count": null,
   "metadata": {},
   "outputs": [],
   "source": [
    "grid = GameGrid()\n",
    "grid.play('X', 1)\n",
    "grid.play('O', 5)\n",
    "grid.play('X', 5)\n",
    "grid.show_grid()"
   ]
  }
 ],
 "metadata": {
  "kernelspec": {
   "display_name": "mlprojects-CAep5X2q-py3.12",
   "language": "python",
   "name": "python3"
  },
  "language_info": {
   "codemirror_mode": {
    "name": "ipython",
    "version": 3
   },
   "file_extension": ".py",
   "mimetype": "text/x-python",
   "name": "python",
   "nbconvert_exporter": "python",
   "pygments_lexer": "ipython3",
   "version": "3.12.3"
  }
 },
 "nbformat": 4,
 "nbformat_minor": 2
}
